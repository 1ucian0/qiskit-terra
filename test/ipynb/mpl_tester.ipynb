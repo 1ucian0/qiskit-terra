{
 "cells": [
  {
   "cell_type": "code",
   "execution_count": 1,
   "id": "fc250437",
   "metadata": {
    "ExecuteTime": {
     "end_time": "2023-03-24T20:01:14.802091Z",
     "start_time": "2023-03-24T20:00:43.929129Z"
    }
   },
   "outputs": [
    {
     "name": "stderr",
     "output_type": "stream",
     "text": [
      "......................................../Users/bel/code/qiskit-terra/venv/lib/python3.9/site-packages/qiskit_aer/__init__.py:72: ImportWarning: __package__ != __spec__.parent\n",
      "  from . import noise\n",
      "/Users/bel/code/qiskit-terra/venv/lib/python3.9/site-packages/qiskit_aer/__init__.py:73: ImportWarning: __package__ != __spec__.parent\n",
      "  from . import utils\n",
      "/Users/bel/code/qiskit-terra/venv/lib/python3.9/site-packages/qiskit_aer/__init__.py:74: ImportWarning: __package__ != __spec__.parent\n",
      "  from .version import __version__\n",
      ".................\n",
      "----------------------------------------------------------------------\n",
      "Ran 57 tests in 29.194s\n",
      "\n",
      "OK\n"
     ]
    }
   ],
   "source": [
    "# Testing Circuits\n",
    "import warnings\n",
    "\n",
    "warnings.simplefilter(\"ignore\")\n",
    "%run \"mpl/circuit/test_circuit_matplotlib_drawer.py\""
   ]
  },
  {
   "cell_type": "code",
   "execution_count": 12,
   "id": "cb71dfd4",
   "metadata": {
    "ExecuteTime": {
     "end_time": "2023-03-24T20:10:45.110867Z",
     "start_time": "2023-03-24T20:10:39.759123Z"
    }
   },
   "outputs": [
    {
     "name": "stderr",
     "output_type": "stream",
     "text": [
      ".............................\n",
      "----------------------------------------------------------------------\n",
      "Ran 29 tests in 5.335s\n",
      "\n",
      "OK\n"
     ]
    }
   ],
   "source": [
    "# Testing Graphs\n",
    "%run \"mpl/graph/test_graph_matplotlib_drawer.py\""
   ]
  },
  {
   "cell_type": "code",
   "execution_count": 13,
   "id": "f39a023f",
   "metadata": {
    "ExecuteTime": {
     "end_time": "2023-03-24T20:10:56.306316Z",
     "start_time": "2023-03-24T20:10:55.024590Z"
    }
   },
   "outputs": [
    {
     "data": {
      "text/html": [
       "<div></div>"
      ],
      "text/plain": [
       "<__main__.Results at 0x128ee6f10>"
      ]
     },
     "execution_count": 13,
     "metadata": {},
     "output_type": "execute_result"
    }
   ],
   "source": [
    "%run -i \"results.py\"\n",
    "RESULTS_CIRCUIT"
   ]
  },
  {
   "cell_type": "code",
   "execution_count": 14,
   "id": "fece430d",
   "metadata": {
    "ExecuteTime": {
     "end_time": "2023-03-24T20:10:56.355611Z",
     "start_time": "2023-03-24T20:10:56.332096Z"
    }
   },
   "outputs": [
    {
     "data": {
      "text/html": [
       "<div><details><summary style=\"background-color:lightgreen;\"> <tt><b>16_qubit_gate_map.png</b> | test_plot_16_qubit_gate_map (__main__.TestGraphMatplotlibDrawer) </tt> | ratio: 1.0 </summary><table><tr><td><img src=\"mpl/graph/16_qubit_gate_map.png\"</td><td><img src=\"mpl/graph/references/16_qubit_gate_map.png\"</td><td><img src=\"mpl/graph/16_qubit_gate_map.diff.png\"</td></tr></table></details><details><summary style=\"background-color:lightgreen;\"> <tt><b>1_qubit_gate_map.png</b> | test_plot_1_qubit_gate_map (__main__.TestGraphMatplotlibDrawer) </tt> | ratio: 1.0 </summary><table><tr><td><img src=\"mpl/graph/1_qubit_gate_map.png\"</td><td><img src=\"mpl/graph/references/1_qubit_gate_map.png\"</td><td><img src=\"mpl/graph/1_qubit_gate_map.diff.png\"</td></tr></table></details><details><summary style=\"background-color:lightgreen;\"> <tt><b>27_qubit_gate_map.png</b> | test_plot_27_qubit_gate_map (__main__.TestGraphMatplotlibDrawer) </tt> | ratio: 1.0 </summary><table><tr><td><img src=\"mpl/graph/27_qubit_gate_map.png\"</td><td><img src=\"mpl/graph/references/27_qubit_gate_map.png\"</td><td><img src=\"mpl/graph/27_qubit_gate_map.diff.png\"</td></tr></table></details><details><summary style=\"background-color:lightgreen;\"> <tt><b>5_qubit_gate_map.png</b> | test_plot_5_qubit_gate_map (__main__.TestGraphMatplotlibDrawer) </tt> | ratio: 1.0 </summary><table><tr><td><img src=\"mpl/graph/5_qubit_gate_map.png\"</td><td><img src=\"mpl/graph/references/5_qubit_gate_map.png\"</td><td><img src=\"mpl/graph/5_qubit_gate_map.diff.png\"</td></tr></table></details><details><summary style=\"background-color:lightgreen;\"> <tt><b>65_qubit_gate_map.png</b> | test_plot_65_qubit_gate_map (__main__.TestGraphMatplotlibDrawer) </tt> | ratio: 1.0 </summary><table><tr><td><img src=\"mpl/graph/65_qubit_gate_map.png\"</td><td><img src=\"mpl/graph/references/65_qubit_gate_map.png\"</td><td><img src=\"mpl/graph/65_qubit_gate_map.diff.png\"</td></tr></table></details><details><summary style=\"background-color:lightgreen;\"> <tt><b>7_qubit_gate_map.png</b> | test_plot_7_qubit_gate_map (__main__.TestGraphMatplotlibDrawer) </tt> | ratio: 1.0 </summary><table><tr><td><img src=\"mpl/graph/7_qubit_gate_map.png\"</td><td><img src=\"mpl/graph/references/7_qubit_gate_map.png\"</td><td><img src=\"mpl/graph/7_qubit_gate_map.diff.png\"</td></tr></table></details><details><summary style=\"background-color:lightgreen;\"> <tt><b>bloch_multivector.png</b> | test_plot_bloch_multivector (__main__.TestGraphMatplotlibDrawer) </tt> | ratio: 1.0 </summary><table><tr><td><img src=\"mpl/graph/bloch_multivector.png\"</td><td><img src=\"mpl/graph/references/bloch_multivector.png\"</td><td><img src=\"mpl/graph/bloch_multivector.diff.png\"</td></tr></table></details><details><summary style=\"background-color:lightgreen;\"> <tt><b>bloch_multivector_figsize_improvements.png</b> | test_plot_bloch_multivector_figsize_improvements (__main__.TestGraphMatplotlibDrawer) </tt> | ratio: 1.0 </summary><table><tr><td><img src=\"mpl/graph/bloch_multivector_figsize_improvements.png\"</td><td><img src=\"mpl/graph/references/bloch_multivector_figsize_improvements.png\"</td><td><img src=\"mpl/graph/bloch_multivector_figsize_improvements.diff.png\"</td></tr></table></details><details><summary style=\"background-color:lightgreen;\"> <tt><b>coupling_map.png</b> | test_plot_coupling_map (__main__.TestGraphMatplotlibDrawer) </tt> | ratio: 1.0 </summary><table><tr><td><img src=\"mpl/graph/coupling_map.png\"</td><td><img src=\"mpl/graph/references/coupling_map.png\"</td><td><img src=\"mpl/graph/coupling_map.diff.png\"</td></tr></table></details><details><summary style=\"background-color:lightgreen;\"> <tt><b>figsize.png</b> | test_figsize (__main__.TestGraphMatplotlibDrawer) </tt> | ratio: 1.0 </summary><table><tr><td><img src=\"mpl/graph/figsize.png\"</td><td><img src=\"mpl/graph/references/figsize.png\"</td><td><img src=\"mpl/graph/figsize.diff.png\"</td></tr></table></details><details><summary style=\"background-color:lightgreen;\"> <tt><b>font_color.png</b> | test_font_color (__main__.TestGraphMatplotlibDrawer) </tt> | ratio: 1.0 </summary><table><tr><td><img src=\"mpl/graph/font_color.png\"</td><td><img src=\"mpl/graph/references/font_color.png\"</td><td><img src=\"mpl/graph/font_color.diff.png\"</td></tr></table></details><details><summary style=\"background-color:lightgreen;\"> <tt><b>hinton.png</b> | test_plot_state_hinton (__main__.TestGraphMatplotlibDrawer) </tt> | ratio: 1.0 </summary><table><tr><td><img src=\"mpl/graph/hinton.png\"</td><td><img src=\"mpl/graph/references/hinton.png\"</td><td><img src=\"mpl/graph/hinton.diff.png\"</td></tr></table></details><details><summary style=\"background-color:lightgreen;\"> <tt><b>histogram.png</b> | test_plot_histogram (__main__.TestGraphMatplotlibDrawer) </tt> | ratio: 1.0 </summary><table><tr><td><img src=\"mpl/graph/histogram.png\"</td><td><img src=\"mpl/graph/references/histogram.png\"</td><td><img src=\"mpl/graph/histogram.diff.png\"</td></tr></table></details><details><summary style=\"background-color:lightgreen;\"> <tt><b>histogram_2_sets_with_rest.png</b> | test_plot_histogram_2_sets_with_rest (__main__.TestGraphMatplotlibDrawer) </tt> | ratio: 1.0 </summary><table><tr><td><img src=\"mpl/graph/histogram_2_sets_with_rest.png\"</td><td><img src=\"mpl/graph/references/histogram_2_sets_with_rest.png\"</td><td><img src=\"mpl/graph/histogram_2_sets_with_rest.diff.png\"</td></tr></table></details><details><summary style=\"background-color:lightgreen;\"> <tt><b>histogram_color.png</b> | test_plot_histogram_color (__main__.TestGraphMatplotlibDrawer) </tt> | ratio: 1.0 </summary><table><tr><td><img src=\"mpl/graph/histogram_color.png\"</td><td><img src=\"mpl/graph/references/histogram_color.png\"</td><td><img src=\"mpl/graph/histogram_color.diff.png\"</td></tr></table></details><details><summary style=\"background-color:lightgreen;\"> <tt><b>histogram_desc_value_sort.png</b> | test_plot_histogram_desc_value_sort (__main__.TestGraphMatplotlibDrawer) </tt> | ratio: 1.0 </summary><table><tr><td><img src=\"mpl/graph/histogram_desc_value_sort.png\"</td><td><img src=\"mpl/graph/references/histogram_desc_value_sort.png\"</td><td><img src=\"mpl/graph/histogram_desc_value_sort.diff.png\"</td></tr></table></details><details><summary style=\"background-color:lightgreen;\"> <tt><b>histogram_hamming.png</b> | test_plot_histogram_hamming (__main__.TestGraphMatplotlibDrawer) </tt> | ratio: 1.0 </summary><table><tr><td><img src=\"mpl/graph/histogram_hamming.png\"</td><td><img src=\"mpl/graph/references/histogram_hamming.png\"</td><td><img src=\"mpl/graph/histogram_hamming.diff.png\"</td></tr></table></details><details><summary style=\"background-color:lightgreen;\"> <tt><b>histogram_legend.png</b> | test_plot_histogram_legend (__main__.TestGraphMatplotlibDrawer) </tt> | ratio: 1.0 </summary><table><tr><td><img src=\"mpl/graph/histogram_legend.png\"</td><td><img src=\"mpl/graph/references/histogram_legend.png\"</td><td><img src=\"mpl/graph/histogram_legend.diff.png\"</td></tr></table></details><details><summary style=\"background-color:lightgreen;\"> <tt><b>histogram_multiple_colors.png</b> | test_plot_histogram_multiple_colors (__main__.TestGraphMatplotlibDrawer) </tt> | ratio: 1.0 </summary><table><tr><td><img src=\"mpl/graph/histogram_multiple_colors.png\"</td><td><img src=\"mpl/graph/references/histogram_multiple_colors.png\"</td><td><img src=\"mpl/graph/histogram_multiple_colors.diff.png\"</td></tr></table></details><details><summary style=\"background-color:lightgreen;\"> <tt><b>histogram_title.png</b> | test_plot_histogram_title (__main__.TestGraphMatplotlibDrawer) </tt> | ratio: 1.0 </summary><table><tr><td><img src=\"mpl/graph/histogram_title.png\"</td><td><img src=\"mpl/graph/references/histogram_title.png\"</td><td><img src=\"mpl/graph/histogram_title.diff.png\"</td></tr></table></details><details><summary style=\"background-color:lightgreen;\"> <tt><b>histogram_value_sort.png</b> | test_plot_histogram_value_sort (__main__.TestGraphMatplotlibDrawer) </tt> | ratio: 1.0 </summary><table><tr><td><img src=\"mpl/graph/histogram_value_sort.png\"</td><td><img src=\"mpl/graph/references/histogram_value_sort.png\"</td><td><img src=\"mpl/graph/histogram_value_sort.diff.png\"</td></tr></table></details><details><summary style=\"background-color:lightgreen;\"> <tt><b>histogram_with_rest.png</b> | test_plot_histogram_with_rest (__main__.TestGraphMatplotlibDrawer) </tt> | ratio: 1.0 </summary><table><tr><td><img src=\"mpl/graph/histogram_with_rest.png\"</td><td><img src=\"mpl/graph/references/histogram_with_rest.png\"</td><td><img src=\"mpl/graph/histogram_with_rest.diff.png\"</td></tr></table></details><details><summary style=\"background-color:lightgreen;\"> <tt><b>line_color.png</b> | test_line_color (__main__.TestGraphMatplotlibDrawer) </tt> | ratio: 1.0 </summary><table><tr><td><img src=\"mpl/graph/line_color.png\"</td><td><img src=\"mpl/graph/references/line_color.png\"</td><td><img src=\"mpl/graph/line_color.diff.png\"</td></tr></table></details><details><summary style=\"background-color:lightgreen;\"> <tt><b>paulivec.png</b> | test_plot_state_paulivec (__main__.TestGraphMatplotlibDrawer) </tt> | ratio: 1.0 </summary><table><tr><td><img src=\"mpl/graph/paulivec.png\"</td><td><img src=\"mpl/graph/references/paulivec.png\"</td><td><img src=\"mpl/graph/paulivec.diff.png\"</td></tr></table></details><details><summary style=\"background-color:lightgreen;\"> <tt><b>qsphere.png</b> | test_plot_state_qsphere (__main__.TestGraphMatplotlibDrawer) </tt> | ratio: 1.0 </summary><table><tr><td><img src=\"mpl/graph/qsphere.png\"</td><td><img src=\"mpl/graph/references/qsphere.png\"</td><td><img src=\"mpl/graph/qsphere.diff.png\"</td></tr></table></details><details><summary style=\"background-color:lightgreen;\"> <tt><b>qubit_color.png</b> | test_qubit_color (__main__.TestGraphMatplotlibDrawer) </tt> | ratio: 1.0 </summary><table><tr><td><img src=\"mpl/graph/qubit_color.png\"</td><td><img src=\"mpl/graph/references/qubit_color.png\"</td><td><img src=\"mpl/graph/qubit_color.diff.png\"</td></tr></table></details><details><summary style=\"background-color:lightgreen;\"> <tt><b>qubit_labels.png</b> | test_qubit_labels (__main__.TestGraphMatplotlibDrawer) </tt> | ratio: 1.0 </summary><table><tr><td><img src=\"mpl/graph/qubit_labels.png\"</td><td><img src=\"mpl/graph/references/qubit_labels.png\"</td><td><img src=\"mpl/graph/qubit_labels.diff.png\"</td></tr></table></details><details><summary style=\"background-color:lightgreen;\"> <tt><b>qubit_size.png</b> | test_qubit_size (__main__.TestGraphMatplotlibDrawer) </tt> | ratio: 1.0 </summary><table><tr><td><img src=\"mpl/graph/qubit_size.png\"</td><td><img src=\"mpl/graph/references/qubit_size.png\"</td><td><img src=\"mpl/graph/qubit_size.diff.png\"</td></tr></table></details><details><summary style=\"background-color:lightgreen;\"> <tt><b>state_city.png</b> | test_plot_state_city (__main__.TestGraphMatplotlibDrawer) </tt> | ratio: 1.0 </summary><table><tr><td><img src=\"mpl/graph/state_city.png\"</td><td><img src=\"mpl/graph/references/state_city.png\"</td><td><img src=\"mpl/graph/state_city.diff.png\"</td></tr></table></details></div>"
      ],
      "text/plain": [
       "<__main__.Results at 0x128ee6e20>"
      ]
     },
     "execution_count": 14,
     "metadata": {},
     "output_type": "execute_result"
    }
   ],
   "source": [
    "RESULTS_GRAPH"
   ]
  },
  {
   "cell_type": "code",
   "execution_count": null,
   "id": "1cb5615d",
   "metadata": {},
   "outputs": [],
   "source": []
  }
 ],
 "metadata": {
  "kernelspec": {
   "display_name": "Python 3",
   "language": "python",
   "name": "python3"
  },
  "language_info": {
   "codemirror_mode": {
    "name": "ipython",
    "version": 3
   },
   "file_extension": ".py",
   "mimetype": "text/x-python",
   "name": "python",
   "nbconvert_exporter": "python",
   "pygments_lexer": "ipython3",
   "version": "3.9.13"
  }
 },
 "nbformat": 4,
 "nbformat_minor": 5
}
