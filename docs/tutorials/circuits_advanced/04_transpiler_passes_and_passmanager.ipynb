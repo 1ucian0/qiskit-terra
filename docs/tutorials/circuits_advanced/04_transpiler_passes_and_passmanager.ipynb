{
 "cells": [
  {
   "cell_type": "markdown",
   "metadata": {},
   "source": [
    "# Transpiler Passes and Pass Manager"
   ]
  },
  {
   "cell_type": "markdown",
   "metadata": {},
   "source": [
    "## Introduction"
   ]
  },
  {
   "cell_type": "markdown",
   "metadata": {},
   "source": [
    "A central component of Qiskit Terra is the transpiler, which is designed for modularity and extensibility. The goal is to be able to easily write new circuit transformations (known as transpiler **passes**), and combine them with other existing passes.  Which passes are chained together and in which order has a major effect on the final outcome. This pipeline is determined by a **pass manager**, which schedules the passes and also allows passes to communicate with each other by providing a shared space. In this way, the transpiler opens up the door for research into aggressive optimization of quantum circuits.\n",
    "\n",
    "In this notebook, we look at the built-in passes, how to use the pass manager, and develop a simple custom transpiler pass. In order to do the latter, we first need to introduce the internal representation of quantum circuits in Qiskit, in the form of a Directed Acyclic Graph, or **DAG**. Then, we illustrate a simple swap mapper pass, which transforms an input circuit to be compatible with a limited-connectivity quantum device.\n",
    "\n",
    "***Before you start***: You may need to install the `pydot` library and the `graphviz` library for the DAG plotting routines. If you are using Anaconda Python, you can install both with the `conda` command. If you use your system's native Python interpreter, install `pydot` using the `pip` command, and install `graphviz` using your system's native package manager (e.g. `yum`, `apt`, `dnf`, `brew`, etc.)."
   ]
  },
  {
   "cell_type": "code",
   "execution_count": null,
   "metadata": {},
   "outputs": [],
   "source": [
    "from qiskit import QuantumCircuit\n",
    "from qiskit.compiler import transpile\n",
    "from qiskit.transpiler import PassManager"
   ]
  },
  {
   "cell_type": "markdown",
   "metadata": {},
   "source": [
    "## PassManager object\n",
    "\n",
    "Lets you specify the set of passes you want."
   ]
  },
  {
   "cell_type": "code",
   "execution_count": null,
   "metadata": {},
   "outputs": [],
   "source": [
    "circ = QuantumCircuit(3)\n",
    "circ.ccx(0, 1, 2)\n",
    "circ.draw(output='mpl')"
   ]
  },
  {
   "cell_type": "code",
   "execution_count": null,
   "metadata": {},
   "outputs": [],
   "source": [
    "from qiskit.transpiler.passes import Unroller\n",
    "pass_ = Unroller(['u1', 'u2', 'u3', 'cx'])\n",
    "pm = PassManager(pass_)\n",
    "new_circ = pm.run(circ)\n",
    "new_circ.draw(output='mpl')"
   ]
  },
  {
   "cell_type": "markdown",
   "metadata": {},
   "source": [
    "All of Qiskit's transpiler passes are accessible from ``qiskit.transpiler.passes``."
   ]
  },
  {
   "cell_type": "code",
   "execution_count": null,
   "metadata": {},
   "outputs": [],
   "source": [
    "from qiskit.transpiler import passes\n",
    "[pass_ for pass_ in dir(passes) if pass_[0].isupper()]"
   ]
  },
  {
   "cell_type": "markdown",
   "metadata": {},
   "source": [
    "## Different Variants of the Same Pass\n",
    "\n",
    "There can be passes that do the same job, but in different ways. For example, the ``TrivialLayout``, ``DenseLayout`` and ``NoiseAdaptiveLayout`` all choose a layout (binding of virtual qubits to physical qubits), but use different algorithms and objectives. Similarly, the ``BasicSwap``, ``LookaheadSwap`` and ``StochasticSwap`` all insert swaps to make the circuit compatible with the coupling map. The modularity of the transpiler allows plug-and-play replacements for each pass.\n",
    "\n",
    "Below, we show the swapper passes all applied to the same circuit, to transform it to match a linear chain topology. You can see differences in performance, where the ``StochasticSwap`` is clearly the best. However, this can vary depending on the input circuit."
   ]
  },
  {
   "cell_type": "code",
   "execution_count": null,
   "metadata": {},
   "outputs": [],
   "source": [
    "from qiskit.transpiler import CouplingMap, Layout\n",
    "from qiskit.transpiler.passes import BasicSwap, LookaheadSwap, StochasticSwap\n",
    "\n",
    "coupling = [[0, 1], [1, 2], [2, 3], [3, 4], [4, 5], [5, 6]]\n",
    "\n",
    "circuit = QuantumCircuit(7)\n",
    "circuit.h(3)\n",
    "circuit.cx(0, 6)\n",
    "circuit.cx(6, 0)\n",
    "circuit.cx(0, 1)\n",
    "circuit.cx(3, 1)\n",
    "circuit.cx(3, 0)\n",
    "\n",
    "coupling_map = CouplingMap(couplinglist=coupling)\n",
    "\n",
    "bs = BasicSwap(coupling_map=coupling_map)\n",
    "pass_manager = PassManager(bs)\n",
    "basic_circ = pass_manager.run(circuit)\n",
    "\n",
    "ls = LookaheadSwap(coupling_map=coupling_map)\n",
    "pass_manager = PassManager(ls)\n",
    "lookahead_circ = pass_manager.run(circuit)\n",
    "\n",
    "ss = StochasticSwap(coupling_map=coupling_map)\n",
    "pass_manager = PassManager(ss)\n",
    "stochastic_circ = pass_manager.run(circuit)"
   ]
  },
  {
   "cell_type": "code",
   "execution_count": null,
   "metadata": {},
   "outputs": [],
   "source": [
    "circuit.draw(output='mpl')"
   ]
  },
  {
   "cell_type": "code",
   "execution_count": null,
   "metadata": {},
   "outputs": [],
   "source": [
    "basic_circ.draw(output='mpl')"
   ]
  },
  {
   "cell_type": "code",
   "execution_count": null,
   "metadata": {},
   "outputs": [],
   "source": [
    "lookahead_circ.draw(output='mpl')"
   ]
  },
  {
   "cell_type": "code",
   "execution_count": null,
   "metadata": {},
   "outputs": [],
   "source": [
    "stochastic_circ.draw(output='mpl')"
   ]
  },
  {
   "cell_type": "markdown",
   "metadata": {},
   "source": [
    "## Preset Pass Managers\n",
    "\n",
    "Qiskit comes with several pre-defined pass managers, corresponding to various levels of optimization achieved through different pipelines of passes. Currently ``optimization_level`` 0 through 3 are supported; the higher the number, the more optimized it is, at the expense of more time. Choosing a good pass manager may take trial and error, as it depends heavily on the circuit being transpiled and the backend being targeted.\n",
    "\n",
    "Here we illustrate the different levels by looking at a state synthesis circuit. We initialize four qubits to an arbitrary state, and then try to optimize the circuit that achieves this.\n",
    "\n",
    "- ``optimization_level=0``: just maps the circuit to the backend, with no explicit optimization (except whatever optimizations the mapper does).\n",
    "\n",
    "- ``optimization_level=1``: maps the circuit, but also does light-weight optimizations by collapsing adjacent gates.\n",
    "\n",
    "- ``optimization_level=2``: medium-weight optimization, including a noise-adaptive layout and a gate-cancellation procedure based on gate commutation relationships.\n",
    "\n",
    "- ``optimization_level=3``: heavy-weight optimization, which in addition to previous steps, does resynthesis of two-qubit blocks of gates in the circuit."
   ]
  },
  {
   "cell_type": "code",
   "execution_count": null,
   "metadata": {},
   "outputs": [],
   "source": [
    "import math\n",
    "from qiskit.providers.fake_provider import FakeTokyo\n",
    "\n",
    "backend = FakeTokyo()     # mimics the tokyo device in terms of coupling map and basis gates"
   ]
  },
  {
   "cell_type": "code",
   "execution_count": null,
   "metadata": {},
   "outputs": [],
   "source": [
    "qc = QuantumCircuit(10)\n",
    "\n",
    "random_state = [\n",
    "    1 / math.sqrt(4) * complex(0, 1),\n",
    "    1 / math.sqrt(8) * complex(1, 0),\n",
    "    0,\n",
    "    0,\n",
    "    0,\n",
    "    0,\n",
    "    0,\n",
    "    0,\n",
    "    1 / math.sqrt(8) * complex(1, 0),\n",
    "    1 / math.sqrt(8) * complex(0, 1),\n",
    "    0,\n",
    "    0,\n",
    "    0,\n",
    "    0,\n",
    "    1 / math.sqrt(4) * complex(1, 0),\n",
    "    1 / math.sqrt(8) * complex(1, 0)]\n",
    "\n",
    "qc.initialize(random_state, range(4))\n",
    "qc.draw()"
   ]
  },
  {
   "cell_type": "markdown",
   "metadata": {},
   "source": [
    "Now map this to the 20-qubit Tokyo device, with different optimization levels:"
   ]
  },
  {
   "cell_type": "code",
   "execution_count": null,
   "metadata": {},
   "outputs": [],
   "source": [
    "optimized_0 = transpile(qc, backend=backend, seed_transpiler=11, optimization_level=0)\n",
    "print('gates = ', optimized_0.count_ops())\n",
    "print('depth = ', optimized_0.depth())"
   ]
  },
  {
   "cell_type": "code",
   "execution_count": null,
   "metadata": {},
   "outputs": [],
   "source": [
    "optimized_1 = transpile(qc, backend=backend, seed_transpiler=11, optimization_level=1)\n",
    "print('gates = ', optimized_1.count_ops())\n",
    "print('depth = ', optimized_1.depth())"
   ]
  },
  {
   "cell_type": "code",
   "execution_count": null,
   "metadata": {},
   "outputs": [],
   "source": [
    "optimized_2 = transpile(qc, backend=backend, seed_transpiler=11, optimization_level=2)\n",
    "print('gates = ', optimized_2.count_ops())\n",
    "print('depth = ', optimized_2.depth())"
   ]
  },
  {
   "cell_type": "code",
   "execution_count": null,
   "metadata": {},
   "outputs": [],
   "source": [
    "optimized_3 = transpile(qc, backend=backend, seed_transpiler=11, optimization_level=3)\n",
    "print('gates = ', optimized_3.count_ops())\n",
    "print('depth = ', optimized_3.depth())"
   ]
  },
  {
   "cell_type": "markdown",
   "metadata": {},
   "source": [
    "## Introducing the DAG"
   ]
  },
  {
   "cell_type": "markdown",
   "metadata": {},
   "source": [
    "In Qiskit, we represent circuits internally using a Directed Acyclic Graph (DAG). The advantage of this representation over a pure list of gates (i.e., *netlist*) is that the flow of information between operations are explicit, making it easier for passes to make transformation decisions without changing the semantics of the circuit.\n",
    "\n",
    "Let's start by building a simple circuit, and examining its DAG."
   ]
  },
  {
   "cell_type": "code",
   "execution_count": null,
   "metadata": {},
   "outputs": [],
   "source": [
    "from qiskit import QuantumRegister, ClassicalRegister, QuantumCircuit\n",
    "from qiskit.dagcircuit import DAGCircuit\n",
    "q = QuantumRegister(3, 'q')\n",
    "c = ClassicalRegister(3, 'c')\n",
    "circ = QuantumCircuit(q, c)\n",
    "circ.h(q[0])\n",
    "circ.cx(q[0], q[1])\n",
    "circ.measure(q[0], c[0])\n",
    "circ.rz(0.5, q[1]).c_if(c, 2)\n",
    "circ.draw(output='mpl')"
   ]
  },
  {
   "cell_type": "markdown",
   "metadata": {},
   "source": [
    "In the DAG, there are three kinds of graph nodes: qubit/clbit input nodes (green), operation nodes (blue), and output nodes (red). Each edge indicates data flow (or dependency) between two nodes. "
   ]
  },
  {
   "cell_type": "code",
   "execution_count": null,
   "metadata": {},
   "outputs": [],
   "source": [
    "from qiskit.converters import circuit_to_dag\n",
    "from qiskit.tools.visualization import dag_drawer\n",
    "dag = circuit_to_dag(circ)\n",
    "dag_drawer(dag)"
   ]
  },
  {
   "cell_type": "markdown",
   "metadata": {},
   "source": [
    "Therefore, writing a transpiler pass means using Qiskit's DAGCircuit API to analyze or transform the circuit. Let's see some examples of this."
   ]
  },
  {
   "cell_type": "markdown",
   "metadata": {},
   "source": [
    "**a. Get all op nodes in the DAG:**"
   ]
  },
  {
   "cell_type": "code",
   "execution_count": null,
   "metadata": {},
   "outputs": [],
   "source": [
    "dag.op_nodes()"
   ]
  },
  {
   "cell_type": "markdown",
   "metadata": {},
   "source": [
    "Each node is an instance of the ``DAGOpNode`` class. Let's examine the information stored in the fourth op node."
   ]
  },
  {
   "cell_type": "code",
   "execution_count": null,
   "metadata": {},
   "outputs": [],
   "source": [
    "node = dag.op_nodes()[3]\n",
    "print(\"node name: \", node.name)\n",
    "print(\"node op: \", node.op)\n",
    "print(\"node qargs: \", node.qargs)\n",
    "print(\"node cargs: \", node.cargs)\n",
    "print(\"node condition: \", node.op.condition)"
   ]
  },
  {
   "cell_type": "markdown",
   "metadata": {},
   "source": [
    "**b. Add an operation to the back:**"
   ]
  },
  {
   "cell_type": "code",
   "execution_count": null,
   "metadata": {},
   "outputs": [],
   "source": [
    "from qiskit.circuit.library import HGate\n",
    "dag.apply_operation_back(HGate(), qargs=[q[0]])\n",
    "dag_drawer(dag)"
   ]
  },
  {
   "cell_type": "markdown",
   "metadata": {},
   "source": [
    "**c. Add an operation to the front:**"
   ]
  },
  {
   "cell_type": "code",
   "execution_count": null,
   "metadata": {},
   "outputs": [],
   "source": [
    "from qiskit.circuit.library import CCXGate\n",
    "dag.apply_operation_front(CCXGate(), qargs=[q[0], q[1], q[2]], cargs=[])\n",
    "dag_drawer(dag)"
   ]
  },
  {
   "cell_type": "markdown",
   "metadata": {},
   "source": [
    "**d. Substitute a node with a subcircuit:**"
   ]
  },
  {
   "cell_type": "code",
   "execution_count": null,
   "metadata": {},
   "outputs": [],
   "source": [
    "from qiskit.circuit.library import CHGate, U2Gate, CXGate\n",
    "mini_dag = DAGCircuit()\n",
    "p = QuantumRegister(2, \"p\")\n",
    "mini_dag.add_qreg(p)\n",
    "mini_dag.apply_operation_back(CHGate(), qargs=[p[1], p[0]])\n",
    "mini_dag.apply_operation_back(U2Gate(0.1, 0.2), qargs=[p[1]])\n",
    "\n",
    "# substitute the cx node with the above mini-dag\n",
    "cx_node = dag.op_nodes(op=CXGate).pop()\n",
    "dag.substitute_node_with_dag(node=cx_node, input_dag=mini_dag, wires=[p[0], p[1]])\n",
    "dag_drawer(dag)"
   ]
  },
  {
   "cell_type": "markdown",
   "metadata": {},
   "source": [
    "Finally, after all transformations are complete, we can convert back to a regular QuantumCircuit object.\n",
    "This is what the transpiler does! It takes a circuit, operates on it in DAG form, and outputs a transformed circuit."
   ]
  },
  {
   "cell_type": "code",
   "execution_count": null,
   "metadata": {},
   "outputs": [],
   "source": [
    "from qiskit.converters import dag_to_circuit\n",
    "circuit = dag_to_circuit(dag)\n",
    "circuit.draw(output='mpl')"
   ]
  },
  {
   "cell_type": "markdown",
   "metadata": {},
   "source": [
    "## Implementing a BasicMapper Pass"
   ]
  },
  {
   "cell_type": "markdown",
   "metadata": {},
   "source": [
    "Now that we are familiar with the DAG, let's use it to write a transpiler pass. Here we will implement a basic pass for mapping an arbitrary circuit to a device with limited qubit connectivity. We call this the BasicMapper. This pass is included in Qiskit Terra as well.\n",
    "\n",
    "The first thing to do when writing a transpiler pass is to decide whether the pass class derives from a ``TransformationPass`` or ``AnalysisPass``. Transformation passes modify the circuit, while analysis passes only collect information about a circuit (to be used by other passes). Then, the ``run(dag)`` method is implemented, which does the main task. Finally, the pass is registered inside the ``qiskit.transpiler.passes`` module.\n",
    "\n",
    "This pass functions as follows: it traverses the DAG layer-by-layer (each layer is a group of operations acting on independent qubits, so in theory all operations in a layer can be done independently). For each operation, if it does not already meet the coupling map constraints, the pass identifies a swap path and inserts swaps to bring the two qubits close to each other.\n",
    "\n",
    "Follow the comments in the code for more details."
   ]
  },
  {
   "cell_type": "code",
   "execution_count": null,
   "metadata": {},
   "outputs": [],
   "source": [
    "from copy import copy\n",
    "\n",
    "from qiskit.transpiler.basepasses import TransformationPass\n",
    "from qiskit.transpiler import Layout\n",
    "from qiskit.circuit.library import SwapGate\n",
    "\n",
    "\n",
    "class BasicSwap(TransformationPass):\n",
    "    \"\"\"Maps (with minimum effort) a DAGCircuit onto a `coupling_map` adding swap gates.\"\"\"\n",
    "\n",
    "    def __init__(self,\n",
    "                 coupling_map,\n",
    "                 initial_layout=None):\n",
    "        \"\"\"Maps a DAGCircuit onto a `coupling_map` using swap gates.\n",
    "        \n",
    "        Args:\n",
    "            coupling_map (CouplingMap): Directed graph represented a coupling map.\n",
    "            initial_layout (Layout): initial layout of qubits in mapping\n",
    "        \"\"\"\n",
    "        super().__init__()\n",
    "        self.coupling_map = coupling_map\n",
    "        self.initial_layout = initial_layout\n",
    "\n",
    "    def run(self, dag):\n",
    "        \"\"\"Runs the BasicSwap pass on `dag`.\n",
    "        \n",
    "        Args:\n",
    "            dag (DAGCircuit): DAG to map.\n",
    "\n",
    "        Returns:\n",
    "            DAGCircuit: A mapped DAG.\n",
    "\n",
    "        Raises:\n",
    "            TranspilerError: if the coupling map or the layout are not\n",
    "            compatible with the DAG.\n",
    "        \"\"\"\n",
    "        new_dag = DAGCircuit()\n",
    "        for qreg in dag.qregs.values():\n",
    "            new_dag.add_qreg(qreg)\n",
    "        for creg in dag.cregs.values():\n",
    "            new_dag.add_creg(creg)\n",
    "        \n",
    "\n",
    "        if self.initial_layout is None:\n",
    "            if self.property_set[\"layout\"]:\n",
    "                self.initial_layout = self.property_set[\"layout\"]\n",
    "            else:\n",
    "                self.initial_layout = Layout.generate_trivial_layout(*dag.qregs.values())\n",
    "\n",
    "        if len(dag.qubits) != len(self.initial_layout):\n",
    "            raise TranspilerError('The layout does not match the amount of qubits in the DAG')\n",
    "\n",
    "        if len(self.coupling_map.physical_qubits) != len(self.initial_layout):\n",
    "            raise TranspilerError(\n",
    "                \"Mappers require to have the layout to be the same size as the coupling map\")\n",
    "            \n",
    "        canonical_register = dag.qregs['q']\n",
    "        trivial_layout = Layout.generate_trivial_layout(canonical_register)\n",
    "        current_layout = trivial_layout.copy()\n",
    "\n",
    "        for layer in dag.serial_layers():\n",
    "            subdag = layer['graph']\n",
    "\n",
    "            for gate in subdag.two_qubit_ops():\n",
    "                physical_q0 = current_layout[gate.qargs[0]]\n",
    "                physical_q1 = current_layout[gate.qargs[1]]\n",
    "                if self.coupling_map.distance(physical_q0, physical_q1) != 1:\n",
    "                    # Insert a new layer with the SWAP(s).\n",
    "                    swap_layer = DAGCircuit()\n",
    "                    swap_layer.add_qreg(canonical_register)\n",
    "\n",
    "                    path = self.coupling_map.shortest_undirected_path(physical_q0, physical_q1)\n",
    "                    for swap in range(len(path) - 2):\n",
    "                        connected_wire_1 = path[swap]\n",
    "                        connected_wire_2 = path[swap + 1]\n",
    "\n",
    "                        qubit_1 = current_layout[connected_wire_1]\n",
    "                        qubit_2 = current_layout[connected_wire_2]\n",
    "\n",
    "                        # create the swap operation\n",
    "                        swap_layer.apply_operation_back(SwapGate(),\n",
    "                                                        qargs=[qubit_1, qubit_2],\n",
    "                                                        cargs=[])\n",
    "\n",
    "                    # layer insertion\n",
    "                    order = current_layout.reorder_bits(new_dag.qubits)\n",
    "                    new_dag.compose(swap_layer, qubits=order)\n",
    "\n",
    "                    # update current_layout\n",
    "                    for swap in range(len(path) - 2):\n",
    "                        current_layout.swap(path[swap], path[swap + 1])\n",
    "\n",
    "            order = current_layout.reorder_bits(new_dag.qubits)\n",
    "            new_dag.compose(subdag, qubits=order)\n",
    "\n",
    "        return new_dag"
   ]
  },
  {
   "cell_type": "markdown",
   "metadata": {},
   "source": [
    "Let's test this pass on a small example circuit."
   ]
  },
  {
   "cell_type": "code",
   "execution_count": null,
   "metadata": {},
   "outputs": [],
   "source": [
    "q = QuantumRegister(7, 'q')\n",
    "in_circ = QuantumCircuit(q)\n",
    "in_circ.h(q[0])\n",
    "in_circ.cx(q[0], q[4])\n",
    "in_circ.cx(q[2], q[3])\n",
    "in_circ.cx(q[6], q[1])\n",
    "in_circ.cx(q[5], q[0])\n",
    "in_circ.rz(0.1, q[2])\n",
    "in_circ.cx(q[5], q[0])"
   ]
  },
  {
   "cell_type": "markdown",
   "metadata": {},
   "source": [
    "Now we construct a pass manager that contains our new pass. We pass the example circuit above to this pass manager, and obtain a new, transformed circuit."
   ]
  },
  {
   "cell_type": "code",
   "execution_count": null,
   "metadata": {},
   "outputs": [],
   "source": [
    "from qiskit.transpiler import PassManager\n",
    "from qiskit.transpiler import CouplingMap\n",
    "from qiskit import BasicAer\n",
    "pm = PassManager()\n",
    "coupling = [[0, 1], [1, 2], [2, 3], [3, 4], [4, 5], [5, 6]]\n",
    "coupling_map = CouplingMap(couplinglist=coupling)\n",
    "\n",
    "pm.append([BasicSwap(coupling_map)])\n",
    "\n",
    "out_circ = pm.run(in_circ)"
   ]
  },
  {
   "cell_type": "code",
   "execution_count": null,
   "metadata": {},
   "outputs": [],
   "source": [
    "in_circ.draw(output='mpl')"
   ]
  },
  {
   "cell_type": "code",
   "execution_count": null,
   "metadata": {},
   "outputs": [],
   "source": [
    "out_circ.draw(output='mpl')"
   ]
  },
  {
   "cell_type": "markdown",
   "metadata": {},
   "source": [
    "Note that this pass only inserts the swaps necessary to make every two-qubit interaction conform to the device coupling map. It does not, for example, care about the direction of interactions, or the native gate set supported by the device. This is a design philosophy of Qiskit's transpiler: every pass performs a small, well-defined action, and the aggressive circuit optimization is achieved by the pass manager through combining multiple passes."
   ]
  },
  {
   "cell_type": "markdown",
   "metadata": {},
   "source": [
    "## Transpiler Logging <a name='logging'></a>\n",
    "\n",
    "Due to the complexity of the internal operations that the transpiler is performing it's likely that you'll end up in a situation where you'd like to debug an issue or just understand more of what is happening inside the transpiler when you call it. To facilitate this the transpiler emits log messages as part of its normal operation. This logging uses the Python standard library `logging` module to emit the log messages. Python's standard logging was used because it allows Qiskit-Terra's logging to integrate in a standard way with other applications and libraries.\n",
    "\n",
    "For a more thorough introduction to Python logging refer to the [official documentation](https://docs.python.org/3/library/logging.html) and the tutorials and cookbook linked off of there."
   ]
  },
  {
   "cell_type": "markdown",
   "metadata": {},
   "source": [
    "<div class=\"alert alert-block alert-success\">\n",
    "    <b>Note:</b> Most of the <code>logging</code> module functions used in this section adjust global settings. If you run commands in this section it might effect the output from other cells if they are run in a different order.\n",
    "</div>"
   ]
  },
  {
   "cell_type": "markdown",
   "metadata": {},
   "source": [
    "### Configuring Python Standard Library Logging\n",
    "\n",
    "By default Python Standard Logging only prints log messages at the `WARNING`, `ERROR`, or `CRITICAL` log levels.\n",
    "Since none of the logs emitted by the transpiler use these log levels (they're all informative) you need to configure logging.\n",
    "\n",
    "The simplest way to do this is to just run:"
   ]
  },
  {
   "cell_type": "code",
   "execution_count": null,
   "metadata": {},
   "outputs": [],
   "source": [
    "import logging\n",
    "\n",
    "logging.basicConfig(level='DEBUG')"
   ]
  },
  {
   "cell_type": "markdown",
   "metadata": {},
   "source": [
    "The `basicConfig()` function (see the docs here: https://docs.python.org/3/library/logging.html#logging.basicConfig) configures a root handler and formatter. We also specify the [log level](https://docs.python.org/3/library/logging.html#levels) to display with the `level` kwarg. Setting it to a level will also include and higher levels. For example, if you set it to `'INFO'`, in addition to the `INFO` level, this will also include the `WARNING`, `ERROR`, and `CRITICAL` log levels.\n",
    "\n",
    "Now the python environment in this notebook is configured to emit log messages to stderr when you run the transpiler. For example:"
   ]
  },
  {
   "cell_type": "markdown",
   "metadata": {},
   "source": [
    "<div class=\"alert alert-block alert-success\">\n",
    "    <b>Note:</b> <code>basicConfig()</code> will only work when called the first time it's called. It detects if a root handler and formatter have already been setup (either by using an earlier <code>basicConfig()</code> call or otherwise) and does nothing if they have. Further adjustments will have to by interacting with the handler directly.\n",
    "</div>"
   ]
  },
  {
   "cell_type": "code",
   "execution_count": null,
   "metadata": {},
   "outputs": [],
   "source": [
    "from qiskit.providers.fake_provider import FakeTenerife\n",
    "\n",
    "\n",
    "log_circ = QuantumCircuit(2, 2)\n",
    "log_circ.h(0)\n",
    "log_circ.h(1)\n",
    "log_circ.h(1)\n",
    "log_circ.x(1)\n",
    "log_circ.cx(0, 1)\n",
    "log_circ.measure([0,1], [0,1])\n",
    "\n",
    "backend = FakeTenerife()\n",
    "\n",
    "transpile(log_circ, backend);"
   ]
  },
  {
   "cell_type": "markdown",
   "metadata": {},
   "source": [
    "As you can clearly see here when calling `transpile()` it now prints 2 types of log messages. The first is at the `INFO` log level and come from the pass manager. These indicate each pass that was executed and how long that took. The second are at the `DEBUG` level and come from the StochasticSwap pass and describes the internal operation of that pass. It's useful for debugging issues in the pass's operation."
   ]
  },
  {
   "cell_type": "markdown",
   "metadata": {},
   "source": [
    "### Adjusting the log level for the transpiler\n",
    "\n",
    "The qiskit transpiler uses a single namespace ``qiskit.transpiler``, as used by ``logging.getLogger('qiskit.transpiler')``. This makes it very easy to adjust the log level for just the transpiler. For example if you only wish to see log messages at the INFO level or above you can run:"
   ]
  },
  {
   "cell_type": "code",
   "execution_count": null,
   "metadata": {},
   "outputs": [],
   "source": [
    "logging.getLogger('qiskit.transpiler').setLevel('INFO')\n",
    "transpile(log_circ, backend);"
   ]
  },
  {
   "cell_type": "markdown",
   "metadata": {},
   "source": [
    "### Setting up logging to deal with parallel execution\n",
    "\n",
    "When running the transpiler with multiple circuits by default these circuits are transpiled in parallel. If you want to do this with logging enabled and be able to understand the output some additional steps are required.\n",
    "\n",
    "If you were just to enable logging as above and then pass `transpile()` multiple circuits you'll get results that are difficult to decipher. For example:"
   ]
  },
  {
   "cell_type": "code",
   "execution_count": null,
   "metadata": {},
   "outputs": [],
   "source": [
    "# Change log level back to DEBUG\n",
    "logging.getLogger('qiskit.transpiler').setLevel('DEBUG')\n",
    "# Transpile multiple circuits\n",
    "circuits = [log_circ, log_circ]\n",
    "transpile(circuits, backend);"
   ]
  },
  {
   "cell_type": "markdown",
   "metadata": {},
   "source": [
    "As you can see here we get log messages from both circuits being transpiled together. There is no way to know which pass is part of which circuit's transpilation.  Luckily Python logging provides tools to deal with this. The simplest one is to just change the [log formatter](https://docs.python.org/3/library/logging.html#logging.Formatter) so that includes additional information so we can associate a log message with the process it came from."
   ]
  },
  {
   "cell_type": "code",
   "execution_count": null,
   "metadata": {},
   "outputs": [],
   "source": [
    "formatter = logging.Formatter('%(name)s - %(processName)-10s - %(levelname)s: %(message)s')\n",
    "handler = logging.getLogger().handlers[0]\n",
    "handler.setFormatter(formatter)"
   ]
  },
  {
   "cell_type": "markdown",
   "metadata": {},
   "source": [
    "Then rerun the `transpile()` call and see the new log formatter."
   ]
  },
  {
   "cell_type": "code",
   "execution_count": null,
   "metadata": {},
   "outputs": [],
   "source": [
    "transpile(circuits, backend);"
   ]
  },
  {
   "cell_type": "markdown",
   "metadata": {},
   "source": [
    "Now the format for the log messages has been changed and it includes a process name for each of the transpilation processes so it's at least clear which log messages go together.\n",
    "\n",
    "There are many different options for how you can configure, this example is pretty limited. Refer to the documentation for more examples and options to build more sophisticated use cases that suit your specific use case or preferences."
   ]
  },
  {
   "cell_type": "markdown",
   "metadata": {},
   "source": [
    "## Appendix: Passes in Preset Pass Managers\n",
    "\n",
    "Qiskit comes with four pre-defined pass managers, one of each of the four optimization levels.\n",
    "Each of these pass managers include different passes."
   ]
  },
  {
   "cell_type": "markdown",
   "metadata": {},
   "source": [
    "### Level 0 -  ``optimization_level=0``"
   ]
  },
  {
   "cell_type": "code",
   "execution_count": null,
   "metadata": {},
   "outputs": [],
   "source": [
    "from qiskit.transpiler.preset_passmanagers import generate_preset_pass_manager\n",
    "optimization_level_0 = generate_preset_pass_manager(0)\n",
    "optimization_level_0.draw()"
   ]
  },
  {
   "cell_type": "markdown",
   "metadata": {},
   "source": [
    "### Level 1 -  ``optimization_level=1``"
   ]
  },
  {
   "cell_type": "code",
   "execution_count": null,
   "metadata": {},
   "outputs": [],
   "source": [
    "from qiskit.transpiler.preset_passmanagers import generate_preset_pass_manager\n",
    "optimization_level_1 = generate_preset_pass_manager(1)\n",
    "optimization_level_1.draw()"
   ]
  },
  {
   "cell_type": "markdown",
   "metadata": {},
   "source": [
    "### Level 2 -  ``optimization_level=2``"
   ]
  },
  {
   "cell_type": "code",
   "execution_count": null,
   "metadata": {},
   "outputs": [],
   "source": [
    "from qiskit.transpiler.preset_passmanagers import generate_preset_pass_manager\n",
    "optimization_level_2 = generate_preset_pass_manager(2)\n",
    "optimization_level_2.draw()"
   ]
  },
  {
   "cell_type": "markdown",
   "metadata": {},
   "source": [
    "### Level 3 -  ``optimization_level=3``"
   ]
  },
  {
   "cell_type": "code",
   "execution_count": null,
   "metadata": {},
   "outputs": [],
   "source": [
    "from qiskit.transpiler.preset_passmanagers import generate_preset_pass_manager\n",
    "optimization_level_3 = generate_preset_pass_manager(3)\n",
    "optimization_level_3.draw()"
   ]
  },
  {
   "cell_type": "code",
   "execution_count": null,
   "metadata": {},
   "outputs": [],
   "source": [
    "import qiskit.tools.jupyter\n",
    "%qiskit_version_table\n",
    "%qiskit_copyright"
   ]
  },
  {
   "cell_type": "code",
   "execution_count": null,
   "metadata": {},
   "outputs": [],
   "source": []
  }
 ],
 "metadata": {
  "celltoolbar": "Tags",
  "kernelspec": {
   "display_name": "Python 3",
   "language": "python",
   "name": "python3"
  },
  "language_info": {
   "codemirror_mode": {
    "name": "ipython",
    "version": 3
   },
   "file_extension": ".py",
   "mimetype": "text/x-python",
   "name": "python",
   "nbconvert_exporter": "python",
   "pygments_lexer": "ipython3"
  },
  "varInspector": {
   "cols": {
    "lenName": 16,
    "lenType": 16,
    "lenVar": 40
   },
   "kernels_config": {
    "python": {
     "delete_cmd_postfix": "",
     "delete_cmd_prefix": "del ",
     "library": "var_list.py",
     "varRefreshCmd": "print(var_dic_list())"
    },
    "r": {
     "delete_cmd_postfix": ") ",
     "delete_cmd_prefix": "rm(",
     "library": "var_list.r",
     "varRefreshCmd": "cat(var_dic_list()) "
    }
   },
   "types_to_exclude": [
    "module",
    "function",
    "builtin_function_or_method",
    "instance",
    "_Feature"
   ],
   "window_display": false
  },
  "vscode": {
   "interpreter": {
    "hash": "916dbcbb3f70747c44a77c7bcd40155683ae19c65e1c03b4aa3499c5328201f1"
   }
  },
  "widgets": {
   "application/vnd.jupyter.widget-state+json": {
    "state": {
     "2a78c65199f8464cad8e826f476ab169": {
      "model_module": "@jupyter-widgets/controls",
      "model_module_version": "2.0.0",
      "model_name": "HTMLModel",
      "state": {
       "_dom_classes": [],
       "_model_module": "@jupyter-widgets/controls",
       "_model_module_version": "2.0.0",
       "_model_name": "HTMLModel",
       "_view_count": null,
       "_view_module": "@jupyter-widgets/controls",
       "_view_module_version": "2.0.0",
       "_view_name": "HTMLView",
       "description": "",
       "description_allow_html": false,
       "layout": "IPY_MODEL_e8a0db65f2d94080898ff75d01662e2b",
       "placeholder": "​",
       "style": "IPY_MODEL_e8b43570a48c4466aff6c1b286c6383e",
       "tabbable": null,
       "tooltip": null,
       "value": "<p style='font-family: IBM Plex Sans, Arial, Helvetica, sans-serif; font-size: 20px; font-weight: medium;'>Circuit Properties</p>"
      }
     },
     "e8a0db65f2d94080898ff75d01662e2b": {
      "model_module": "@jupyter-widgets/base",
      "model_module_version": "2.0.0",
      "model_name": "LayoutModel",
      "state": {
       "_model_module": "@jupyter-widgets/base",
       "_model_module_version": "2.0.0",
       "_model_name": "LayoutModel",
       "_view_count": null,
       "_view_module": "@jupyter-widgets/base",
       "_view_module_version": "2.0.0",
       "_view_name": "LayoutView",
       "align_content": null,
       "align_items": null,
       "align_self": null,
       "border_bottom": null,
       "border_left": null,
       "border_right": null,
       "border_top": null,
       "bottom": null,
       "display": null,
       "flex": null,
       "flex_flow": null,
       "grid_area": null,
       "grid_auto_columns": null,
       "grid_auto_flow": null,
       "grid_auto_rows": null,
       "grid_column": null,
       "grid_gap": null,
       "grid_row": null,
       "grid_template_areas": null,
       "grid_template_columns": null,
       "grid_template_rows": null,
       "height": null,
       "justify_content": null,
       "justify_items": null,
       "left": null,
       "margin": "0px 0px 10px 0px",
       "max_height": null,
       "max_width": null,
       "min_height": null,
       "min_width": null,
       "object_fit": null,
       "object_position": null,
       "order": null,
       "overflow": null,
       "padding": null,
       "right": null,
       "top": null,
       "visibility": null,
       "width": null
      }
     },
     "e8b43570a48c4466aff6c1b286c6383e": {
      "model_module": "@jupyter-widgets/controls",
      "model_module_version": "2.0.0",
      "model_name": "HTMLStyleModel",
      "state": {
       "_model_module": "@jupyter-widgets/controls",
       "_model_module_version": "2.0.0",
       "_model_name": "HTMLStyleModel",
       "_view_count": null,
       "_view_module": "@jupyter-widgets/base",
       "_view_module_version": "2.0.0",
       "_view_name": "StyleView",
       "background": null,
       "description_width": "",
       "font_size": null,
       "text_color": null
      }
     }
    },
    "version_major": 2,
    "version_minor": 0
   }
  }
 },
 "nbformat": 4,
 "nbformat_minor": 2
}
