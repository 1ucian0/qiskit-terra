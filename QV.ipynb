{
 "cells": [
  {
   "cell_type": "code",
   "execution_count": 1,
   "metadata": {
    "ExecuteTime": {
     "end_time": "2020-12-17T13:51:43.306446Z",
     "start_time": "2020-12-17T13:51:30.323846Z"
    }
   },
   "outputs": [
    {
     "name": "stderr",
     "output_type": "stream",
     "text": [
      "/Users/lucianobello/repos/qiskit-terra/venv/lib/python3.7/site-packages/qiskit/aqua/operators/operator_globals.py:48: DeprecationWarning: `from_label` is deprecated and will be removed no earlier than 3 months after the release date. Use Pauli(label) instead.\n",
      "  X = make_immutable(PrimitiveOp(Pauli.from_label('X')))\n"
     ]
    }
   ],
   "source": [
    "from pickle import load\n",
    "from qiskit import *\n",
    "from qiskit.test.mock import FakeMontreal\n",
    "from statistics import mean\n",
    "\n",
    "\n",
    "with open(\"QV256_500_circs.pkl\", \"rb\") as input_file:\n",
    "    QV256_collection = load(input_file)"
   ]
  },
  {
   "cell_type": "code",
   "execution_count": 2,
   "metadata": {
    "ExecuteTime": {
     "end_time": "2020-12-17T13:51:43.320167Z",
     "start_time": "2020-12-17T13:51:43.308456Z"
    }
   },
   "outputs": [],
   "source": [
    "precompcircs = QV256_collection['compiled']\n",
    "ideal_results = QV256_collection['ideal_results']\n",
    "qv_circs_nomeas = QV256_collection['qv_circs_nomeas']\n",
    "qv_circs = QV256_collection['qv_circs']"
   ]
  },
  {
   "cell_type": "code",
   "execution_count": 3,
   "metadata": {
    "ExecuteTime": {
     "end_time": "2020-12-17T13:51:43.328179Z",
     "start_time": "2020-12-17T13:51:43.324248Z"
    }
   },
   "outputs": [],
   "source": [
    "# flatten circuit list\n",
    "circs = [circ[0] for circ in qv_circs]"
   ]
  },
  {
   "cell_type": "code",
   "execution_count": 4,
   "metadata": {
    "ExecuteTime": {
     "end_time": "2020-12-17T14:15:59.822813Z",
     "start_time": "2020-12-17T13:51:43.335077Z"
    }
   },
   "outputs": [],
   "source": [
    "result_l3 = []\n",
    "for circ in circs:\n",
    "    result_l3.append(transpile(circ, backend=FakeMontreal(), optimization_level=3, seed_transpiler=0))"
   ]
  },
  {
   "cell_type": "code",
   "execution_count": 5,
   "metadata": {
    "ExecuteTime": {
     "end_time": "2020-12-17T14:16:00.005882Z",
     "start_time": "2020-12-17T14:15:59.827261Z"
    }
   },
   "outputs": [
    {
     "data": {
      "text/plain": [
       "288.384"
      ]
     },
     "execution_count": 5,
     "metadata": {},
     "output_type": "execute_result"
    }
   ],
   "source": [
    "mean([r.count_ops()['cx'] for r in result_l3])"
   ]
  },
  {
   "cell_type": "code",
   "execution_count": 6,
   "metadata": {
    "ExecuteTime": {
     "end_time": "2020-12-17T14:44:23.625455Z",
     "start_time": "2020-12-17T14:16:00.008514Z"
    }
   },
   "outputs": [],
   "source": [
    "result_rpo = []\n",
    "for circ in circs:\n",
    "    result_rpo.append(transpile(circ, backend=FakeMontreal(), optimization_level='rpo', seed_transpiler=0))"
   ]
  },
  {
   "cell_type": "code",
   "execution_count": 7,
   "metadata": {
    "ExecuteTime": {
     "end_time": "2020-12-17T14:44:23.831577Z",
     "start_time": "2020-12-17T14:44:23.632165Z"
    }
   },
   "outputs": [
    {
     "data": {
      "text/plain": [
       "275.264"
      ]
     },
     "execution_count": 7,
     "metadata": {},
     "output_type": "execute_result"
    }
   ],
   "source": [
    "mean([r.count_ops()['cx'] for r in result_rpo])"
   ]
  }
 ],
 "metadata": {
  "kernelspec": {
   "display_name": "Python 3",
   "language": "python",
   "name": "python3"
  },
  "language_info": {
   "codemirror_mode": {
    "name": "ipython",
    "version": 3
   },
   "file_extension": ".py",
   "mimetype": "text/x-python",
   "name": "python",
   "nbconvert_exporter": "python",
   "pygments_lexer": "ipython3",
   "version": "3.7.8"
  }
 },
 "nbformat": 4,
 "nbformat_minor": 2
}
